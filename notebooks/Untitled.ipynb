{
 "cells": [
  {
   "cell_type": "code",
   "execution_count": 1,
   "id": "f046e516-630a-4258-ac38-7aadfbc1daaf",
   "metadata": {},
   "outputs": [
    {
     "data": {
      "text/plain": [
       "['/Library/Frameworks/Python.framework/Versions/3.12/lib/python312.zip',\n",
       " '/Library/Frameworks/Python.framework/Versions/3.12/lib/python3.12',\n",
       " '/Library/Frameworks/Python.framework/Versions/3.12/lib/python3.12/lib-dynload',\n",
       " '',\n",
       " '/Library/Frameworks/Python.framework/Versions/3.12/lib/python3.12/site-packages',\n",
       " '/Users/warrenfulton/Desktop/fvg_trader']"
      ]
     },
     "execution_count": 1,
     "metadata": {},
     "output_type": "execute_result"
    }
   ],
   "source": [
    "import sys\n",
    "import os\n",
    "sys.path.append(os.path.dirname(os.path.dirname(os.path.abspath(\"Untitled.ipynb\"))))\n",
    "sys.path"
   ]
  },
  {
   "cell_type": "code",
   "execution_count": 2,
   "id": "1dd431e5-39e0-4257-90c3-21cd2b57228b",
   "metadata": {},
   "outputs": [],
   "source": [
    "from datetime import datetime, timedelta\n",
    "import yfinance as yf"
   ]
  },
  {
   "cell_type": "code",
   "execution_count": 3,
   "id": "53c70346-9dcf-4cef-989b-2b7cf5293f9e",
   "metadata": {},
   "outputs": [],
   "source": [
    "from trading.trading_bot import TradingBot\n",
    "from backtesting.backtester import Backtester\n",
    "from utils.logger import get_logger"
   ]
  },
  {
   "cell_type": "code",
   "execution_count": 4,
   "id": "cdec1fe5-7dfa-4583-ba00-cb31478735a4",
   "metadata": {},
   "outputs": [],
   "source": [
    "symbols = ['AAPL', 'MSFT', 'META']"
   ]
  },
  {
   "cell_type": "code",
   "execution_count": 5,
   "id": "af6db6d0-9b77-4ecb-a285-dbaca06b7b1c",
   "metadata": {},
   "outputs": [],
   "source": [
    "initial_capital = 100_000\n",
    "min_gap_size = 0.0\n",
    "volume_threshold = 0\n",
    "risk_per_trade = 0.02"
   ]
  },
  {
   "cell_type": "code",
   "execution_count": 6,
   "id": "c012b8bc-aa7c-4487-9e60-80cf1528751c",
   "metadata": {},
   "outputs": [],
   "source": [
    "bot = TradingBot(\n",
    "    symbols=symbols,\n",
    "    min_gap_size=min_gap_size,\n",
    "    volume_threshold=volume_threshold,\n",
    "    risk_per_trade=risk_per_trade,\n",
    ")"
   ]
  },
  {
   "cell_type": "code",
   "execution_count": 7,
   "id": "28359b4c-fa02-49ae-bdcc-01e23380024d",
   "metadata": {},
   "outputs": [],
   "source": [
    "backtester = Backtester(bot)"
   ]
  },
  {
   "cell_type": "code",
   "execution_count": 8,
   "id": "4dbfff19-61e3-4c44-9e80-ba43198f9a29",
   "metadata": {},
   "outputs": [
    {
     "name": "stdout",
     "output_type": "stream",
     "text": [
      "Backtesting AAPL...\n",
      "                                 Open        High         Low       Close  \\\n",
      "Datetime                                                                    \n",
      "2025-01-27 09:30:00-05:00  225.250000  226.949997  225.044998  226.470001   \n",
      "2025-01-27 09:35:00-05:00  226.505005  226.505005  225.369995  225.539993   \n",
      "2025-01-27 09:40:00-05:00  227.235001  227.380005  226.720001  226.720505   \n",
      "2025-01-27 09:45:00-05:00  226.750000  227.539993  226.712601  227.414993   \n",
      "2025-01-27 09:50:00-05:00  227.520004  227.649994  226.984207  227.419998   \n",
      "\n",
      "                            Volume  Dividends  Stock Splits  \n",
      "Datetime                                                     \n",
      "2025-01-27 09:30:00-05:00  4886270        0.0           0.0  \n",
      "2025-01-27 09:35:00-05:00  1611156        0.0           0.0  \n",
      "2025-01-27 09:40:00-05:00  1337435        0.0           0.0  \n",
      "2025-01-27 09:45:00-05:00  1252604        0.0           0.0  \n",
      "2025-01-27 09:50:00-05:00   928009        0.0           0.0  \n",
      "{'total_trades': 0, 'win_rate': 0, 'profit_factor': 0, 'average_win': 0, 'average_loss': 0, 'largest_win': 0, 'largest_loss': 0, 'total_pnl': 0}\n",
      "Backtesting MSFT...\n",
      "                                 Open        High         Low       Close  \\\n",
      "Datetime                                                                    \n",
      "2025-01-27 09:30:00-05:00  425.045013  425.489990  423.500000  424.660004   \n",
      "2025-01-27 09:35:00-05:00  425.589996  429.000000  425.570007  428.110992   \n",
      "2025-01-27 09:40:00-05:00  428.149994  428.839996  427.339996  427.480011   \n",
      "2025-01-27 09:45:00-05:00  427.859985  429.579987  427.279999  429.179993   \n",
      "2025-01-27 09:50:00-05:00  429.149994  429.429993  427.899994  428.339691   \n",
      "\n",
      "                            Volume  Dividends  Stock Splits  \n",
      "Datetime                                                     \n",
      "2025-01-27 09:30:00-05:00  3229736        0.0           0.0  \n",
      "2025-01-27 09:35:00-05:00   840835        0.0           0.0  \n",
      "2025-01-27 09:40:00-05:00   532654        0.0           0.0  \n",
      "2025-01-27 09:45:00-05:00   573339        0.0           0.0  \n",
      "2025-01-27 09:50:00-05:00   407220        0.0           0.0  \n",
      "{'total_trades': 0, 'win_rate': 0, 'profit_factor': 0, 'average_win': 0, 'average_loss': 0, 'largest_win': 0, 'largest_loss': 0, 'total_pnl': 0}\n",
      "Backtesting META...\n",
      "                                 Open        High         Low       Close  \\\n",
      "Datetime                                                                    \n",
      "2025-01-27 09:30:00-05:00  634.799988  640.280029  631.200012  632.715027   \n",
      "2025-01-27 09:35:00-05:00  629.140015  631.789978  625.099976  631.789978   \n",
      "2025-01-27 09:40:00-05:00  631.840027  633.770020  630.669983  631.419983   \n",
      "2025-01-27 09:45:00-05:00  632.594971  634.710022  631.280029  634.710022   \n",
      "2025-01-27 09:50:00-05:00  633.020020  636.269897  633.020020  635.390015   \n",
      "\n",
      "                            Volume  Dividends  Stock Splits  \n",
      "Datetime                                                     \n",
      "2025-01-27 09:30:00-05:00  2324959        0.0           0.0  \n",
      "2025-01-27 09:35:00-05:00   540680        0.0           0.0  \n",
      "2025-01-27 09:40:00-05:00   374662        0.0           0.0  \n",
      "2025-01-27 09:45:00-05:00   316683        0.0           0.0  \n",
      "2025-01-27 09:50:00-05:00   251463        0.0           0.0  \n",
      "{'total_trades': 0, 'win_rate': 0, 'profit_factor': 0, 'average_win': 0, 'average_loss': 0, 'largest_win': 0, 'largest_loss': 0, 'total_pnl': 0}\n"
     ]
    }
   ],
   "source": [
    "for symbol in symbols:\n",
    "    print(f\"Backtesting {symbol}...\")\n",
    "    end_date = datetime.now()\n",
    "    start_date = end_date - timedelta(days=30)\n",
    "\n",
    "    results = backtester.run(\n",
    "        symbol=symbol,\n",
    "        start_date=start_date.strftime('%Y-%m-%d'),\n",
    "        end_date=end_date.strftime('%Y-%m-%d'),\n",
    "        initial_capital=initial_capital,\n",
    "    )\n",
    "\n",
    "    print(backtester.get_performance_metrics())"
   ]
  },
  {
   "cell_type": "code",
   "execution_count": 21,
   "id": "13a767a4-01a9-4559-825d-52fb46532b4f",
   "metadata": {},
   "outputs": [
    {
     "data": {
      "text/plain": [
       "{'total_trades': 0,\n",
       " 'win_rate': 0,\n",
       " 'profit_factor': 0,\n",
       " 'average_win': 0,\n",
       " 'average_loss': 0,\n",
       " 'largest_win': 0,\n",
       " 'largest_loss': 0,\n",
       " 'total_pnl': 0}"
      ]
     },
     "execution_count": 21,
     "metadata": {},
     "output_type": "execute_result"
    }
   ],
   "source": []
  },
  {
   "cell_type": "code",
   "execution_count": null,
   "id": "460b9a00-3c5c-46d4-81e7-4752ee619006",
   "metadata": {},
   "outputs": [],
   "source": []
  }
 ],
 "metadata": {
  "kernelspec": {
   "display_name": "Python 3 (ipykernel)",
   "language": "python",
   "name": "python3"
  },
  "language_info": {
   "codemirror_mode": {
    "name": "ipython",
    "version": 3
   },
   "file_extension": ".py",
   "mimetype": "text/x-python",
   "name": "python",
   "nbconvert_exporter": "python",
   "pygments_lexer": "ipython3",
   "version": "3.12.4"
  }
 },
 "nbformat": 4,
 "nbformat_minor": 5
}
